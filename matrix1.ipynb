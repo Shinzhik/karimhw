{
 "cells": [
  {
   "cell_type": "code",
   "execution_count": null,
   "id": "03bf8463",
   "metadata": {},
   "outputs": [],
   "source": [
    "import numpy as np\n",
    "import random \n",
    "import math\n",
    "from random import randint\n",
    "First = P = W = Sum = Sum1 = 0\n",
    "T = 0.8\n",
    "b = int(input('Введите размер матрицы: '))\n",
    "J = 750 \n",
    "k = [-1,1] \n",
    "mas = np.zeros((b,b))  \n",
    "mas1 = 0 \n",
    "debug = False\n",
    "for i in range(b):\n",
    "    for y in range(b):                   \n",
    "        mas[i][y] = random.choice(k)         \n",
    "First = mas.copy()\n",
    "for Count in range(J): \n",
    "    Sum = Sum1 = 0 \n",
    "    mas1 = mas.copy()\n",
    "    mas1[random.randrange(b)][random.randrange(b)] *= -1    \n",
    "    for k in range(b):        \n",
    "        for i in range(b): \n",
    "            Sum += mas[k][i]*mas[k][i-1] + mas[k-1][i]*mas[k][i] \n",
    "            Sum1 += mas1[k][i]*mas1[k][i-1] + mas1[k-1][i]*mas1[k][i]        \n",
    "    delta = (Sum1 - Sum)\n",
    "    if delta <=0:\n",
    "        mas = mas1.copy()\n",
    "    else:\n",
    "        W = math.exp(-delta/T)\n",
    "        P = random.uniform(0, 1)\n",
    "        if W >= P:\n",
    "            First = mas.copy()\n",
    "        elif W < 0:         \n",
    "            mas = First.copy()\n",
    "    if Count == J-1:\n",
    "        if debug == True:\n",
    "            for i in range(b): \n",
    "                for y in range(b):                   \n",
    "                    if mas[i,y] == -1:\n",
    "                        mas[i,y] = 0\n",
    "        print(mas)\n",
    "        print('Сумма элементов матрицы:', Sum)"
   ]
  },
  {
   "cell_type": "code",
   "execution_count": null,
   "id": "21682eef",
   "metadata": {},
   "outputs": [],
   "source": []
  }
 ],
 "metadata": {
  "kernelspec": {
   "display_name": "Python 3",
   "language": "python",
   "name": "python3"
  },
  "language_info": {
   "codemirror_mode": {
    "name": "ipython",
    "version": 3
   },
   "file_extension": ".py",
   "mimetype": "text/x-python",
   "name": "python",
   "nbconvert_exporter": "python",
   "pygments_lexer": "ipython3",
   "version": "3.8.8"
  }
 },
 "nbformat": 4,
 "nbformat_minor": 5
}
