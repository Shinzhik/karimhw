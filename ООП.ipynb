{
 "cells": [
  {
   "cell_type": "code",
   "execution_count": 1,
   "id": "50bf4baa",
   "metadata": {},
   "outputs": [
    {
     "name": "stdout",
     "output_type": "stream",
     "text": [
      "Toyota Corolla\n",
      "Дата выпуска: Ноябрь 1966\n",
      "Цвет: белый\n",
      "Производитель: Toyota Motor Corporation\n",
      "Расход топлива(л/100км)): 5.8\n"
     ]
    }
   ],
   "source": [
    "class Car:\n",
    "    name = None\n",
    "    Production = None\n",
    "    color = None\n",
    "    manufacturer = None\n",
    "    fuel_consumption = None\n",
    "    def set_data(self, name, Production, color, manufacturer, fuel_consumption):\n",
    "        self.name = name\n",
    "        self.Production = Production\n",
    "        self.color = color\n",
    "        self.manufacturer = manufacturer\n",
    "        self.fuel_consumption = fuel_consumption\n",
    "    def get_data(self):\n",
    "        print(self.name)\n",
    "        print(\"Дата выпуска:\", self.Production)\n",
    "        print(\"Цвет:\", self.color)\n",
    "        print(\"Производитель:\", self.manufacturer)\n",
    "        print(\"Расход топлива(л/100км)):\", self.fuel_consumption)\n",
    "car1 = Car()\n",
    "car1.set_data(\"Toyota Corolla\", \"Ноябрь 1966\", \"белый\", \"Toyota Motor Corporation\", 5.8)\n",
    "car1.get_data()\n"
   ]
  },
  {
   "cell_type": "code",
   "execution_count": null,
   "id": "76c665bd",
   "metadata": {},
   "outputs": [],
   "source": []
  },
  {
   "cell_type": "code",
   "execution_count": null,
   "id": "b4fe12d7",
   "metadata": {},
   "outputs": [],
   "source": []
  },
  {
   "cell_type": "code",
   "execution_count": null,
   "id": "cf7f3b3b",
   "metadata": {},
   "outputs": [],
   "source": []
  }
 ],
 "metadata": {
  "kernelspec": {
   "display_name": "Python 3",
   "language": "python",
   "name": "python3"
  },
  "language_info": {
   "codemirror_mode": {
    "name": "ipython",
    "version": 3
   },
   "file_extension": ".py",
   "mimetype": "text/x-python",
   "name": "python",
   "nbconvert_exporter": "python",
   "pygments_lexer": "ipython3",
   "version": "3.8.8"
  }
 },
 "nbformat": 4,
 "nbformat_minor": 5
}
